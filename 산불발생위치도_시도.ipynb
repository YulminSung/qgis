{
 "cells": [
  {
   "cell_type": "markdown",
   "id": "7563e5ce-1963-4fa0-8722-e91ee86ca709",
   "metadata": {},
   "source": [
    "## 라이브러리 불러오기"
   ]
  },
  {
   "cell_type": "code",
   "execution_count": null,
   "id": "6ee1243d-cc74-4ad4-9dd9-285208e916a5",
   "metadata": {},
   "outputs": [],
   "source": [
    "!pip install geopandas"
   ]
  },
  {
   "cell_type": "code",
   "execution_count": 3,
   "id": "e5a5ad1b-4761-470c-b9c0-919a356952f2",
   "metadata": {},
   "outputs": [
    {
     "data": {
      "text/html": [
       "<div>\n",
       "<style scoped>\n",
       "    .dataframe tbody tr th:only-of-type {\n",
       "        vertical-align: middle;\n",
       "    }\n",
       "\n",
       "    .dataframe tbody tr th {\n",
       "        vertical-align: top;\n",
       "    }\n",
       "\n",
       "    .dataframe thead th {\n",
       "        text-align: right;\n",
       "    }\n",
       "</style>\n",
       "<table border=\"1\" class=\"dataframe\">\n",
       "  <thead>\n",
       "    <tr style=\"text-align: right;\">\n",
       "      <th></th>\n",
       "      <th>OCCRR_DTM</th>\n",
       "      <th>OCUR_DYWK</th>\n",
       "      <th>EXTING_DTM</th>\n",
       "      <th>RQRMN_TM</th>\n",
       "      <th>ARA_NM</th>\n",
       "      <th>CTPRV_NM</th>\n",
       "      <th>SGNG_NM</th>\n",
       "      <th>EMNDN_NM</th>\n",
       "      <th>OCCCRR_RI</th>\n",
       "      <th>ARA_LTNMB</th>\n",
       "      <th>CUSE_NM</th>\n",
       "      <th>DMG_AREA</th>\n",
       "      <th>DMG_MONEY</th>\n",
       "      <th>TM_X</th>\n",
       "      <th>TM_Y</th>\n",
       "      <th>geometry</th>\n",
       "    </tr>\n",
       "  </thead>\n",
       "  <tbody>\n",
       "    <tr>\n",
       "      <th>0</th>\n",
       "      <td>201303271437</td>\n",
       "      <td>수</td>\n",
       "      <td>201303271650</td>\n",
       "      <td>0213</td>\n",
       "      <td>강원</td>\n",
       "      <td>강원</td>\n",
       "      <td>춘천시</td>\n",
       "      <td>남산</td>\n",
       "      <td>강촌리</td>\n",
       "      <td>산41-3</td>\n",
       "      <td>농산폐기물소각</td>\n",
       "      <td>NaN</td>\n",
       "      <td>NaN</td>\n",
       "      <td>1013903.55033462</td>\n",
       "      <td>1979356.77605993</td>\n",
       "      <td>POINT (1013903.550 1979356.776)</td>\n",
       "    </tr>\n",
       "    <tr>\n",
       "      <th>1</th>\n",
       "      <td>201303061510</td>\n",
       "      <td>수</td>\n",
       "      <td>201303061710</td>\n",
       "      <td>0200</td>\n",
       "      <td>강원</td>\n",
       "      <td>강원</td>\n",
       "      <td>춘천시</td>\n",
       "      <td>남산면</td>\n",
       "      <td>산수리</td>\n",
       "      <td>산143</td>\n",
       "      <td>농산폐기물소각</td>\n",
       "      <td>NaN</td>\n",
       "      <td>NaN</td>\n",
       "      <td>1014657.10543526</td>\n",
       "      <td>1966835.59371412</td>\n",
       "      <td>POINT (1014657.105 1966835.594)</td>\n",
       "    </tr>\n",
       "    <tr>\n",
       "      <th>2</th>\n",
       "      <td>201303091315</td>\n",
       "      <td>토</td>\n",
       "      <td>201303091420</td>\n",
       "      <td>0105</td>\n",
       "      <td>강원</td>\n",
       "      <td>강원</td>\n",
       "      <td>춘천시</td>\n",
       "      <td>북상면</td>\n",
       "      <td>오항리</td>\n",
       "      <td>산19</td>\n",
       "      <td>쓰레기소각</td>\n",
       "      <td>NaN</td>\n",
       "      <td>NaN</td>\n",
       "      <td>1034931.99056</td>\n",
       "      <td>1998694.89677203</td>\n",
       "      <td>POINT (1034931.991 1998694.897)</td>\n",
       "    </tr>\n",
       "    <tr>\n",
       "      <th>3</th>\n",
       "      <td>201305061450</td>\n",
       "      <td>월</td>\n",
       "      <td>201305061619</td>\n",
       "      <td>0129</td>\n",
       "      <td>강원</td>\n",
       "      <td>강원</td>\n",
       "      <td>춘천시</td>\n",
       "      <td>동면</td>\n",
       "      <td>지내리</td>\n",
       "      <td>산10</td>\n",
       "      <td>입산자실화</td>\n",
       "      <td>NaN</td>\n",
       "      <td>NaN</td>\n",
       "      <td>1024897.01091565</td>\n",
       "      <td>1991314.94498909</td>\n",
       "      <td>POINT (1024897.011 1991314.945)</td>\n",
       "    </tr>\n",
       "    <tr>\n",
       "      <th>4</th>\n",
       "      <td>201305172230</td>\n",
       "      <td>금</td>\n",
       "      <td>201305180030</td>\n",
       "      <td>0200</td>\n",
       "      <td>강원</td>\n",
       "      <td>강원</td>\n",
       "      <td>춘천시</td>\n",
       "      <td>서면</td>\n",
       "      <td>덕두원리</td>\n",
       "      <td>산70</td>\n",
       "      <td>입산자실화</td>\n",
       "      <td>NaN</td>\n",
       "      <td>NaN</td>\n",
       "      <td>1014544.46664239</td>\n",
       "      <td>1983472.66818326</td>\n",
       "      <td>POINT (1014544.467 1983472.668)</td>\n",
       "    </tr>\n",
       "    <tr>\n",
       "      <th>...</th>\n",
       "      <td>...</td>\n",
       "      <td>...</td>\n",
       "      <td>...</td>\n",
       "      <td>...</td>\n",
       "      <td>...</td>\n",
       "      <td>...</td>\n",
       "      <td>...</td>\n",
       "      <td>...</td>\n",
       "      <td>...</td>\n",
       "      <td>...</td>\n",
       "      <td>...</td>\n",
       "      <td>...</td>\n",
       "      <td>...</td>\n",
       "      <td>...</td>\n",
       "      <td>...</td>\n",
       "      <td>...</td>\n",
       "    </tr>\n",
       "    <tr>\n",
       "      <th>4847</th>\n",
       "      <td>202005021500</td>\n",
       "      <td>NaN</td>\n",
       "      <td>NaN</td>\n",
       "      <td>NaN</td>\n",
       "      <td>강원</td>\n",
       "      <td>강원도</td>\n",
       "      <td>고성군</td>\n",
       "      <td>수동면</td>\n",
       "      <td>외면리</td>\n",
       "      <td>산12</td>\n",
       "      <td>NaN</td>\n",
       "      <td>NaN</td>\n",
       "      <td>NaN</td>\n",
       "      <td>1071514.3966</td>\n",
       "      <td>2063783.1308</td>\n",
       "      <td>POINT (1071514.397 2063783.131)</td>\n",
       "    </tr>\n",
       "    <tr>\n",
       "      <th>4848</th>\n",
       "      <td>202005030722</td>\n",
       "      <td>NaN</td>\n",
       "      <td>NaN</td>\n",
       "      <td>NaN</td>\n",
       "      <td>강원</td>\n",
       "      <td>강원도</td>\n",
       "      <td>고성군</td>\n",
       "      <td>수동면</td>\n",
       "      <td>외면리</td>\n",
       "      <td>산9</td>\n",
       "      <td>NaN</td>\n",
       "      <td>NaN</td>\n",
       "      <td>NaN</td>\n",
       "      <td>1072401.4699</td>\n",
       "      <td>2063959.9076</td>\n",
       "      <td>POINT (1072401.470 2063959.908)</td>\n",
       "    </tr>\n",
       "    <tr>\n",
       "      <th>4849</th>\n",
       "      <td>202105111350</td>\n",
       "      <td>NaN</td>\n",
       "      <td>NaN</td>\n",
       "      <td>NaN</td>\n",
       "      <td>강원</td>\n",
       "      <td>강원도</td>\n",
       "      <td>철원군</td>\n",
       "      <td>철원읍</td>\n",
       "      <td>산명리</td>\n",
       "      <td>산275</td>\n",
       "      <td>NaN</td>\n",
       "      <td>NaN</td>\n",
       "      <td>NaN</td>\n",
       "      <td>968894.0423</td>\n",
       "      <td>2034119.5882</td>\n",
       "      <td>POINT (968894.042 2034119.588)</td>\n",
       "    </tr>\n",
       "    <tr>\n",
       "      <th>4850</th>\n",
       "      <td>202004161338</td>\n",
       "      <td>NaN</td>\n",
       "      <td>NaN</td>\n",
       "      <td>NaN</td>\n",
       "      <td>강원</td>\n",
       "      <td>강원도</td>\n",
       "      <td>철원군</td>\n",
       "      <td>갈말읍</td>\n",
       "      <td>정연리</td>\n",
       "      <td>산60</td>\n",
       "      <td>NaN</td>\n",
       "      <td>NaN</td>\n",
       "      <td>NaN</td>\n",
       "      <td>984314.944</td>\n",
       "      <td>2034859.6536</td>\n",
       "      <td>POINT (984314.944 2034859.654)</td>\n",
       "    </tr>\n",
       "    <tr>\n",
       "      <th>4851</th>\n",
       "      <td>202005012125</td>\n",
       "      <td>NaN</td>\n",
       "      <td>NaN</td>\n",
       "      <td>NaN</td>\n",
       "      <td>강원</td>\n",
       "      <td>강원도</td>\n",
       "      <td>고성군</td>\n",
       "      <td>죽왕면</td>\n",
       "      <td>삼포리</td>\n",
       "      <td>1-16</td>\n",
       "      <td>NaN</td>\n",
       "      <td>NaN</td>\n",
       "      <td>NaN</td>\n",
       "      <td>1090478.5249</td>\n",
       "      <td>2035466.6577</td>\n",
       "      <td>POINT (1090478.525 2035466.658)</td>\n",
       "    </tr>\n",
       "  </tbody>\n",
       "</table>\n",
       "<p>4852 rows × 16 columns</p>\n",
       "</div>"
      ],
      "text/plain": [
       "         OCCRR_DTM OCUR_DYWK    EXTING_DTM RQRMN_TM ARA_NM CTPRV_NM SGNG_NM  \\\n",
       "0     201303271437         수  201303271650     0213     강원       강원     춘천시   \n",
       "1     201303061510         수  201303061710     0200     강원       강원     춘천시   \n",
       "2     201303091315         토  201303091420     0105     강원       강원     춘천시   \n",
       "3     201305061450         월  201305061619     0129     강원       강원     춘천시   \n",
       "4     201305172230         금  201305180030     0200     강원       강원     춘천시   \n",
       "...            ...       ...           ...      ...    ...      ...     ...   \n",
       "4847  202005021500       NaN           NaN      NaN     강원      강원도     고성군   \n",
       "4848  202005030722       NaN           NaN      NaN     강원      강원도     고성군   \n",
       "4849  202105111350       NaN           NaN      NaN     강원      강원도     철원군   \n",
       "4850  202004161338       NaN           NaN      NaN     강원      강원도     철원군   \n",
       "4851  202005012125       NaN           NaN      NaN     강원      강원도     고성군   \n",
       "\n",
       "     EMNDN_NM OCCCRR_RI ARA_LTNMB  CUSE_NM DMG_AREA DMG_MONEY  \\\n",
       "0          남산       강촌리     산41-3  농산폐기물소각      NaN       NaN   \n",
       "1         남산면       산수리      산143  농산폐기물소각      NaN       NaN   \n",
       "2         북상면       오항리       산19    쓰레기소각      NaN       NaN   \n",
       "3          동면       지내리       산10    입산자실화      NaN       NaN   \n",
       "4          서면      덕두원리       산70    입산자실화      NaN       NaN   \n",
       "...       ...       ...       ...      ...      ...       ...   \n",
       "4847      수동면       외면리       산12      NaN      NaN       NaN   \n",
       "4848      수동면       외면리        산9      NaN      NaN       NaN   \n",
       "4849      철원읍       산명리      산275      NaN      NaN       NaN   \n",
       "4850      갈말읍       정연리       산60      NaN      NaN       NaN   \n",
       "4851      죽왕면       삼포리      1-16      NaN      NaN       NaN   \n",
       "\n",
       "                  TM_X              TM_Y                         geometry  \n",
       "0     1013903.55033462  1979356.77605993  POINT (1013903.550 1979356.776)  \n",
       "1     1014657.10543526  1966835.59371412  POINT (1014657.105 1966835.594)  \n",
       "2        1034931.99056  1998694.89677203  POINT (1034931.991 1998694.897)  \n",
       "3     1024897.01091565  1991314.94498909  POINT (1024897.011 1991314.945)  \n",
       "4     1014544.46664239  1983472.66818326  POINT (1014544.467 1983472.668)  \n",
       "...                ...               ...                              ...  \n",
       "4847      1071514.3966      2063783.1308  POINT (1071514.397 2063783.131)  \n",
       "4848      1072401.4699      2063959.9076  POINT (1072401.470 2063959.908)  \n",
       "4849       968894.0423      2034119.5882   POINT (968894.042 2034119.588)  \n",
       "4850        984314.944      2034859.6536   POINT (984314.944 2034859.654)  \n",
       "4851      1090478.5249      2035466.6577  POINT (1090478.525 2035466.658)  \n",
       "\n",
       "[4852 rows x 16 columns]"
      ]
     },
     "execution_count": 3,
     "metadata": {},
     "output_type": "execute_result"
    }
   ],
   "source": [
    "import geopandas as gpd\n",
    "DATA_PATH = 'FRT000102_42/'\n",
    "wildfire = gpd.read_file(DATA_PATH + 'TB_FFAS_FF_OCCRR_42.shp')\n",
    "wildfire"
   ]
  },
  {
   "cell_type": "code",
   "execution_count": 4,
   "id": "f235bed2-fd50-4aec-933d-37cdf6532c5b",
   "metadata": {},
   "outputs": [
    {
     "name": "stdout",
     "output_type": "stream",
     "text": [
      "POINT (1013903.5503000002 1979356.7761000004)\n"
     ]
    }
   ],
   "source": [
    "print(wildfire['geometry'][0])"
   ]
  },
  {
   "cell_type": "code",
   "execution_count": 5,
   "id": "b778627f-975f-406c-b695-95d1789aa87f",
   "metadata": {},
   "outputs": [
    {
     "data": {
      "image/svg+xml": [
       "<svg xmlns=\"http://www.w3.org/2000/svg\" xmlns:xlink=\"http://www.w3.org/1999/xlink\" width=\"100.0\" height=\"100.0\" viewBox=\"1013902.5503000002 1979355.7761000004 2.0 2.0\" preserveAspectRatio=\"xMinYMin meet\"><g transform=\"matrix(1,0,0,-1,0,3958713.5522000007)\"><circle cx=\"1013903.5503000002\" cy=\"1979356.7761000004\" r=\"0.06\" stroke=\"#555555\" stroke-width=\"0.02\" fill=\"#66cc99\" opacity=\"0.6\" /></g></svg>"
      ],
      "text/plain": [
       "<POINT (1013903.55 1979356.776)>"
      ]
     },
     "execution_count": 5,
     "metadata": {},
     "output_type": "execute_result"
    }
   ],
   "source": [
    "wildfire['geometry'][0]"
   ]
  },
  {
   "cell_type": "code",
   "execution_count": 6,
   "id": "b02ab5f4-ee7d-4dd2-bf85-8a27acb91f1d",
   "metadata": {},
   "outputs": [
    {
     "name": "stdout",
     "output_type": "stream",
     "text": [
      "<class 'geopandas.geodataframe.GeoDataFrame'>\n"
     ]
    }
   ],
   "source": [
    "print(type(wildfire))"
   ]
  },
  {
   "cell_type": "code",
   "execution_count": 9,
   "id": "26e95933-0a7c-441e-b61f-75b382ca54fd",
   "metadata": {},
   "outputs": [
    {
     "data": {
      "text/plain": [
       "0    Point\n",
       "1    Point\n",
       "2    Point\n",
       "3    Point\n",
       "dtype: object"
      ]
     },
     "execution_count": 9,
     "metadata": {},
     "output_type": "execute_result"
    }
   ],
   "source": [
    "wildfire.geom_type.head(4)"
   ]
  },
  {
   "cell_type": "code",
   "execution_count": 10,
   "id": "4629903d-458c-4a6a-92d3-5b4cd0beed90",
   "metadata": {},
   "outputs": [
    {
     "data": {
      "text/plain": [
       "<Projected CRS: EPSG:5179>\n",
       "Name: Korea 2000 / Unified CS\n",
       "Axis Info [cartesian]:\n",
       "- X[north]: Northing (metre)\n",
       "- Y[east]: Easting (metre)\n",
       "Area of Use:\n",
       "- name: Republic of Korea (South Korea) - onshore and offshore.\n",
       "- bounds: (122.71, 28.6, 134.28, 40.27)\n",
       "Coordinate Operation:\n",
       "- name: Korea Unified Belt\n",
       "- method: Transverse Mercator\n",
       "Datum: Geocentric datum of Korea\n",
       "- Ellipsoid: GRS 1980\n",
       "- Prime Meridian: Greenwich"
      ]
     },
     "execution_count": 10,
     "metadata": {},
     "output_type": "execute_result"
    }
   ],
   "source": [
    "wildfire.crs"
   ]
  },
  {
   "cell_type": "code",
   "execution_count": 21,
   "id": "9eece1be-fe5e-408a-8518-717786b717d8",
   "metadata": {
    "scrolled": true
   },
   "outputs": [
    {
     "data": {
      "image/png": "[encoded data removed]",
      "text/plain": [
       "<Figure size 640x480 with 1 Axes>"
      ]
     },
     "metadata": {},
     "output_type": "display_data"
    }
   ],
   "source": [
    "import matplotlib.pyplot as plt\n",
    "# ax = wildfire[wildfire['ARA_NM']=='충북'].plot()\n",
    "ax = wildfire.plot()\n",
    "plt.show()"
   ]
  },
  {
   "cell_type": "code",
   "execution_count": 12,
   "id": "ea851cf6-c947-428f-ac0d-bfb5c3de53da",
   "metadata": {},
   "outputs": [],
   "source": [
    "wildfire.to_file('wildfire_file.json', driver=\"GeoJSON\")"
   ]
  },
  {
   "cell_type": "code",
   "execution_count": 17,
   "id": "1ab317be-5d02-495a-a52a-f0cdc89e7290",
   "metadata": {},
   "outputs": [
    {
     "data": {
      "text/plain": [
       "강원    4372\n",
       "충북     256\n",
       "북부     107\n",
       "동부      82\n",
       "기타      16\n",
       "중부       3\n",
       "경남       2\n",
       "서부       1\n",
       "경북       1\n",
       "Name: ARA_NM, dtype: int64"
      ]
     },
     "execution_count": 17,
     "metadata": {},
     "output_type": "execute_result"
    }
   ],
   "source": [
    "DATA_PATH = 'FRT000102_42/'\n",
    "new_df1 = gpd.read_file(DATA_PATH + 'wildfire_file.json')\n",
    "new_df1['ARA_NM'].value_counts()"
   ]
  },
  {
   "cell_type": "code",
   "execution_count": 26,
   "id": "be3552f0-f085-4e8f-91a6-49fb21920164",
   "metadata": {},
   "outputs": [
    {
     "data": {
      "text/html": [
       "<div>\n",
       "<style scoped>\n",
       "    .dataframe tbody tr th:only-of-type {\n",
       "        vertical-align: middle;\n",
       "    }\n",
       "\n",
       "    .dataframe tbody tr th {\n",
       "        vertical-align: top;\n",
       "    }\n",
       "\n",
       "    .dataframe thead th {\n",
       "        text-align: right;\n",
       "    }\n",
       "</style>\n",
       "<table border=\"1\" class=\"dataframe\">\n",
       "  <thead>\n",
       "    <tr style=\"text-align: right;\">\n",
       "      <th></th>\n",
       "      <th>LI_CD</th>\n",
       "      <th>LI_ENG_NM</th>\n",
       "      <th>LI_KOR_NM</th>\n",
       "      <th>geometry</th>\n",
       "    </tr>\n",
       "  </thead>\n",
       "  <tbody>\n",
       "    <tr>\n",
       "      <th>0</th>\n",
       "      <td>4691025021</td>\n",
       "      <td>Naeyang-ri</td>\n",
       "      <td>내양리</td>\n",
       "      <td>MULTIPOLYGON (((885913.18205 1678705.36322, 88...</td>\n",
       "    </tr>\n",
       "    <tr>\n",
       "      <th>1</th>\n",
       "      <td>4691025022</td>\n",
       "      <td>Bong-ri</td>\n",
       "      <td>봉리</td>\n",
       "      <td>MULTIPOLYGON (((882126.82159 1679790.14144, 88...</td>\n",
       "    </tr>\n",
       "    <tr>\n",
       "      <th>2</th>\n",
       "      <td>4691025023</td>\n",
       "      <td>Eoui-ri</td>\n",
       "      <td>어의리</td>\n",
       "      <td>MULTIPOLYGON (((883248.78837 1680691.61511, 88...</td>\n",
       "    </tr>\n",
       "    <tr>\n",
       "      <th>3</th>\n",
       "      <td>4691025024</td>\n",
       "      <td>Gamjeong-ri</td>\n",
       "      <td>감정리</td>\n",
       "      <td>MULTIPOLYGON (((877553.89114 1678113.62867, 87...</td>\n",
       "    </tr>\n",
       "    <tr>\n",
       "      <th>4</th>\n",
       "      <td>4691025025</td>\n",
       "      <td>Eumnae-ri</td>\n",
       "      <td>읍내리</td>\n",
       "      <td>MULTIPOLYGON (((880914.71152 1673435.60021, 88...</td>\n",
       "    </tr>\n",
       "    <tr>\n",
       "      <th>...</th>\n",
       "      <td>...</td>\n",
       "      <td>...</td>\n",
       "      <td>...</td>\n",
       "      <td>...</td>\n",
       "    </tr>\n",
       "    <tr>\n",
       "      <th>138</th>\n",
       "      <td>4691042025</td>\n",
       "      <td>Osang-ri</td>\n",
       "      <td>오상리</td>\n",
       "      <td>MULTIPOLYGON (((871758.51000 1651841.48529, 87...</td>\n",
       "    </tr>\n",
       "    <tr>\n",
       "      <th>139</th>\n",
       "      <td>4691042026</td>\n",
       "      <td>Gidong-ri</td>\n",
       "      <td>기동리</td>\n",
       "      <td>MULTIPOLYGON (((871277.67417 1650499.35377, 87...</td>\n",
       "    </tr>\n",
       "    <tr>\n",
       "      <th>140</th>\n",
       "      <td>4691042027</td>\n",
       "      <td>Songgok-ri</td>\n",
       "      <td>송곡리</td>\n",
       "      <td>MULTIPOLYGON (((876474.54543 1651132.38337, 87...</td>\n",
       "    </tr>\n",
       "    <tr>\n",
       "      <th>141</th>\n",
       "      <td>4691042028</td>\n",
       "      <td>Sinseok-ri</td>\n",
       "      <td>신석리</td>\n",
       "      <td>MULTIPOLYGON (((877048.04356 1652287.51114, 87...</td>\n",
       "    </tr>\n",
       "    <tr>\n",
       "      <th>142</th>\n",
       "      <td>4691042029</td>\n",
       "      <td>Dangsa-ri</td>\n",
       "      <td>당사리</td>\n",
       "      <td>MULTIPOLYGON (((878720.28947 1655533.47889, 87...</td>\n",
       "    </tr>\n",
       "  </tbody>\n",
       "</table>\n",
       "<p>143 rows × 4 columns</p>\n",
       "</div>"
      ],
      "text/plain": [
       "          LI_CD    LI_ENG_NM LI_KOR_NM  \\\n",
       "0    4691025021   Naeyang-ri       내양리   \n",
       "1    4691025022      Bong-ri        봉리   \n",
       "2    4691025023      Eoui-ri       어의리   \n",
       "3    4691025024  Gamjeong-ri       감정리   \n",
       "4    4691025025    Eumnae-ri       읍내리   \n",
       "..          ...          ...       ...   \n",
       "138  4691042025     Osang-ri       오상리   \n",
       "139  4691042026    Gidong-ri       기동리   \n",
       "140  4691042027   Songgok-ri       송곡리   \n",
       "141  4691042028   Sinseok-ri       신석리   \n",
       "142  4691042029    Dangsa-ri       당사리   \n",
       "\n",
       "                                              geometry  \n",
       "0    MULTIPOLYGON (((885913.18205 1678705.36322, 88...  \n",
       "1    MULTIPOLYGON (((882126.82159 1679790.14144, 88...  \n",
       "2    MULTIPOLYGON (((883248.78837 1680691.61511, 88...  \n",
       "3    MULTIPOLYGON (((877553.89114 1678113.62867, 87...  \n",
       "4    MULTIPOLYGON (((880914.71152 1673435.60021, 88...  \n",
       "..                                                 ...  \n",
       "138  MULTIPOLYGON (((871758.51000 1651841.48529, 87...  \n",
       "139  MULTIPOLYGON (((871277.67417 1650499.35377, 87...  \n",
       "140  MULTIPOLYGON (((876474.54543 1651132.38337, 87...  \n",
       "141  MULTIPOLYGON (((877048.04356 1652287.51114, 87...  \n",
       "142  MULTIPOLYGON (((878720.28947 1655533.47889, 87...  \n",
       "\n",
       "[143 rows x 4 columns]"
      ]
     },
     "execution_count": 26,
     "metadata": {},
     "output_type": "execute_result"
    }
   ],
   "source": [
    "DATA_PATH = 'FRT000102_42/'\n",
    "test = gpd.read_file(DATA_PATH + 'test.geojson')\n",
    "test"
   ]
  },
  {
   "cell_type": "code",
   "execution_count": 27,
   "id": "447dd6a3-246d-4fdc-921d-ba165d8cd8ab",
   "metadata": {},
   "outputs": [
    {
     "data": {
      "text/plain": [
       "(143, 4)"
      ]
     },
     "execution_count": 27,
     "metadata": {},
     "output_type": "execute_result"
    }
   ],
   "source": [
    "test.shape"
   ]
  },
  {
   "cell_type": "code",
   "execution_count": 29,
   "id": "35263fd2-d514-4fa7-b88a-991e8e811179",
   "metadata": {},
   "outputs": [
    {
     "data": {
      "text/plain": [
       "<Geographic 2D CRS: EPSG:4326>\n",
       "Name: WGS 84\n",
       "Axis Info [ellipsoidal]:\n",
       "- Lat[north]: Geodetic latitude (degree)\n",
       "- Lon[east]: Geodetic longitude (degree)\n",
       "Area of Use:\n",
       "- name: World.\n",
       "- bounds: (-180.0, -90.0, 180.0, 90.0)\n",
       "Datum: World Geodetic System 1984 ensemble\n",
       "- Ellipsoid: WGS 84\n",
       "- Prime Meridian: Greenwich"
      ]
     },
     "execution_count": 29,
     "metadata": {},
     "output_type": "execute_result"
    }
   ],
   "source": [
    "test.crs"
   ]
  },
  {
   "cell_type": "code",
   "execution_count": 30,
   "id": "de48acb5-964b-40dc-9937-7c27121ed874",
   "metadata": {},
   "outputs": [
    {
     "data": {
      "text/plain": [
       "LI_CD       LI_ENG_NM        LI_KOR_NM  geometry                                         \n",
       "4691025021  Naeyang-ri       내양리        MULTIPOLYGON (((885913.18205 1678705.36322, 88...    1\n",
       "4691039024  Gongsu-ri        공수리        MULTIPOLYGON (((878580.61971 1630709.34749, 87...    1\n",
       "4691038023  Hataeseo-ri      하태서리       MULTIPOLYGON (((863771.81258 1616182.98713, 86...    1\n",
       "4691038024  Hataedong-ri     하태동리       MULTIPOLYGON (((867996.55990 1619074.36667, 86...    1\n",
       "4691038025  Gopyeongsado-ri  고평사도리      MULTIPOLYGON (((876545.69730 1620202.22717, 87...    1\n",
       "                                                                                            ..\n",
       "4691034023  Dogo-ri          도고리        MULTIPOLYGON (((860461.68653 1641634.12613, 86...    1\n",
       "4691034024  Gasan-ri         가산리        MULTIPOLYGON (((860725.83830 1639956.73521, 86...    1\n",
       "4691034025  Deoksan-ri       덕산리        MULTIPOLYGON (((856258.55212 1640818.94646, 85...    1\n",
       "4691034026  Jidang-ri        지당리        MULTIPOLYGON (((858561.68235 1644743.78452, 85...    1\n",
       "4691042029  Dangsa-ri        당사리        MULTIPOLYGON (((878720.28947 1655533.47889, 87...    1\n",
       "Length: 143, dtype: int64"
      ]
     },
     "execution_count": 30,
     "metadata": {},
     "output_type": "execute_result"
    }
   ],
   "source": [
    "test.value_counts()"
   ]
  },
  {
   "cell_type": "code",
   "execution_count": 34,
   "id": "46cf141c-b6f7-4bd1-9a4d-c5ee17b87c57",
   "metadata": {},
   "outputs": [
    {
     "data": {
      "image/svg+xml": [
       "<svg xmlns=\"http://www.w3.org/2000/svg\" xmlns:xlink=\"http://www.w3.org/1999/xlink\" width=\"300\" height=\"300\" viewBox=\"876268.9950922177 1674198.2627436111 5955.364996886696 4596.366202778416\" preserveAspectRatio=\"xMinYMin meet\"><g transform=\"matrix(1,0,0,-1,0,3352992.891690001)\"><g><path fill-rule=\"evenodd\" fill=\"#66cc99\" stroke=\"#555555\" stroke-width=\"39.70243331257797\" opacity=\"0.6\" d=\"M 877553.8911398256,1678113.628669661 L 877603.0911832397,1678110.2163495251 L 877627.9250421983,1678106.793003561 L 877626.8370422333,1678097.7420033717 L 877623.2807811853,1678059.7325285547 L 877624.039601557,1678041.7598007524 L 877625.2531595419,1678040.7410135192 L 877629.9520270692,1678034.9861162393 L 877634.0666637734,1678030.3508275836 L 877639.3551244241,1678027.9440344698 L 877641.6760191225,1678033.247920415 L 877634.5867725681,1678051.1783478342 L 877633.8784631806,1678053.074358458 L 877644.7130310815,1678075.3738323152 L 877643.9511628915,1678085.3458323912 L 877646.8557623003,1678093.8199018128 L 877651.1901685132,1678101.3370839516 L 877654.0466880179,1678100.6029921253 L 877655.1394783622,1678106.615825314 L 877657.7462779628,1678115.9121532545 L 877661.9494784898,1678127.7757655366 L 877664.869551287,1678135.7458993916 L 877665.3433724565,1678136.1364173554 L 877659.8547415789,1678136.8996767942 L 877659.8923514368,1678137.2233971837 L 877660.1590782772,1678140.3801712673 L 877664.1438487034,1678145.9526520064 L 877664.3653914229,1678147.2721706778 L 877666.0436865579,1678155.4164713765 L 877666.752265723,1678156.970485871 L 877675.4708114516,1678173.752107108 L 877673.356450547,1678179.3541103932 L 877672.9496934772,1678187.9697153552 L 877676.2137797666,1678200.156936821 L 877682.7538599864,1678203.3383004721 L 877686.6678347674,1678222.9311786203 L 877690.3097837847,1678232.515242858 L 877679.3882527369,1678283.5325179745 L 877690.8624840619,1678337.5618313602 L 877693.4359096015,1678349.7775014397 L 877696.6635321906,1678365.8648038935 L 877694.194272256,1678374.8626257863 L 877691.9680811978,1678385.6857158097 L 877691.6651961169,1678386.0911176587 L 877685.4690579535,1678398.698577971 L 877683.3128326277,1678406.7221079357 L 877678.8324409457,1678410.3865030159 L 877676.047558193,1678411.8510310655 L 877676.0220324004,1678412.144076157 L 877669.6688461134,1678452.099605876 L 877680.9328220461,1678514.4536209344 L 877697.8533936779,1678533.0996511315 L 877717.7272166273,1678544.1720335418 L 877745.8845929765,1678567.4075127714 L 877750.2316695536,1678574.0598724307 L 877754.9323021938,1678568.258977347 L 877758.7203198636,1678565.4797981067 L 877771.0898382158,1678553.896143315 L 877774.4702513778,1678551.1729889356 L 877800.3563374853,1678525.283706614 L 877867.761713497,1678491.2068853574 L 877882.9852437433,1678495.36749886 L 877898.5414657581,1678505.6777098174 L 877929.1159142253,1678518.8779199994 L 877934.8727311657,1678521.3633981734 L 877951.0410415696,1678522.7370684163 L 877954.4214174094,1678506.0238671293 L 877993.8150515724,1678506.57549979 L 878016.0743149901,1678505.2874299623 L 878051.4683722996,1678477.5330848189 L 878054.279213212,1678474.463880747 L 878073.1269146064,1678447.7020903395 L 878092.7301026533,1678427.0727856425 L 878128.1889046719,1678412.2554646193 L 878166.9105055702,1678388.5933118188 L 878193.9265642506,1678379.343683793 L 878213.4849044726,1678378.1191204165 L 878251.0342981593,1678376.1237113941 L 878265.423264756,1678379.526717293 L 878299.6929776737,1678384.4017829574 L 878353.1018157118,1678366.412506411 L 878370.7066643038,1678349.9980210173 L 878410.1914578375,1678353.9862315697 L 878435.4905110883,1678356.2259505664 L 878471.3416661589,1678373.2656560107 L 878510.4676481077,1678336.3212503004 L 878521.2787595885,1678315.9798894287 L 878539.790415453,1678305.9710549293 L 878560.0910025553,1678293.2530327546 L 878573.8882373341,1678282.4940116217 L 878579.7554902673,1678270.4910398591 L 878587.5749175187,1678250.8424611718 L 878591.5170721652,1678233.9165208251 L 878598.6633462347,1678222.988842479 L 878604.266428694,1678214.932076158 L 878609.8484517535,1678210.0585137752 L 878632.3870144193,1678197.462257374 L 878649.8011235702,1678194.4739319484 L 878664.8841158241,1678197.12367856 L 878712.3669313256,1678202.5704447208 L 878714.0306982617,1678204.8154800623 L 878717.9785516192,1678210.603077853 L 878782.7211557856,1678210.1931031782 L 878856.1915861806,1678208.2458743914 L 878903.6746423182,1678216.1399437513 L 878963.0642616111,1678217.2303395537 L 878971.3447612235,1678239.7734946443 L 878992.6300742404,1678254.8256735248 L 879032.7897155264,1678281.999929618 L 879054.1537330534,1678301.392480991 L 879073.5879385873,1678292.5467046439 L 879105.3116233532,1678277.9010545413 L 879185.8560886567,1678231.4200513256 L 879261.2186079674,1678236.5963277465 L 879272.761740771,1678237.4772942867 L 879331.6376527695,1678241.5983992117 L 879354.7821000647,1678242.6012563952 L 879384.7477780818,1678225.4591223288 L 879431.3222100651,1678196.6251711228 L 879485.2996316862,1678152.827418057 L 879520.8363843965,1678119.436020987 L 879544.7550888379,1678095.1641904197 L 879566.2654281581,1678081.4704093046 L 879601.3839305696,1678065.9850203572 L 879619.8511238823,1678079.0588621427 L 879632.5548346473,1678081.5205714155 L 879670.2315796282,1678086.4065840142 L 879691.6651379528,1678087.5359731186 L 879696.6588779672,1678087.5679669215 L 879725.1422421695,1678103.4428720947 L 879734.3466814118,1678095.8629537818 L 879768.9295684266,1678064.0438957103 L 879778.012388739,1678054.9350219974 L 879795.6563941546,1678030.3676930435 L 879812.8021097062,1678017.9004159416 L 879858.4892297803,1678013.9288545744 L 879919.796185261,1678018.20475904 L 879949.991733912,1677982.0738994298 L 879992.8226570962,1677972.1083443763 L 880025.6941550183,1677963.6892021913 L 880063.5853108854,1677955.0879864313 L 880097.2830339489,1677948.7591143756 L 880118.8941624919,1677948.8159231143 L 880152.3773847588,1677950.9657093915 L 880197.8487554698,1677939.8432710988 L 880264.053417319,1677925.3650100948 L 880322.6704895268,1677910.1379443393 L 880334.2750638875,1677910.9136366765 L 880371.9984752296,1677917.3399800863 L 880407.6653200206,1677885.9773958907 L 880413.3516070831,1677878.766990169 L 880423.7161129913,1677854.0861515242 L 880442.7189284553,1677799.9914663732 L 880481.9751587901,1677787.290598767 L 880477.5920076295,1677771.6270069648 L 880471.5305849877,1677739.8304181115 L 880470.6025726637,1677724.1915249317 L 880483.292857009,1677701.1965675154 L 880510.37156946,1677653.733575428 L 880549.976852021,1677673.2297793375 L 880553.6039121408,1677673.4485626894 L 880609.8398971079,1677657.671593309 L 880618.1909209577,1677655.3554559937 L 880627.1014185178,1677652.3667104659 L 880657.9279293467,1677630.051789172 L 880681.7150924435,1677623.0497299044 L 880702.5398264069,1677590.8187028526 L 880739.2145391492,1677539.5077961097 L 880746.6913557693,1677529.5082301684 L 880770.1415861038,1677518.1051177531 L 880796.1453779177,1677503.96300774 L 880876.2192391711,1677472.7411582523 L 880927.3546220366,1677459.552995794 L 880961.8143870143,1677476.458693231 L 881018.3560695946,1677437.8657370629 L 881059.7777353689,1677427.577366014 L 881067.2583895747,1677423.3401375606 L 881079.1946881096,1677420.4852137107 L 881118.7350338177,1677408.0278804144 L 881169.2945843663,1677339.8963256124 L 881186.54436917,1677313.4655551664 L 881192.7042172994,1677295.404893612 L 881218.1264762124,1677263.141892292 L 881233.1702832417,1677254.771996914 L 881277.126926708,1677244.2260237588 L 881296.2425302332,1677223.4602990246 L 881323.5131195603,1677205.356000269 L 881340.3222213087,1677195.5476839137 L 881385.159636894,1677172.8187952307 L 881415.2647250607,1677166.565920544 L 881429.8247383801,1677156.0120752805 L 881434.5651015129,1677152.5593403226 L 881447.1988714735,1677142.6459521907 L 881451.5967914796,1677139.284904904 L 881464.8299346745,1677135.6747122426 L 881479.9880696672,1677126.1785717662 L 881531.4155414085,1677098.2442010855 L 881568.6459550534,1677059.4949818973 L 881535.3307926217,1677020.5888541713 L 881537.3541196588,1676998.190145448 L 881536.1779402199,1676991.2930075119 L 881569.4001559537,1676942.0828488325 L 881602.2443356827,1676885.8495981393 L 881615.1133874676,1676835.4406431317 L 881640.6320628119,1676773.0908104745 L 881655.1683372337,1676756.1929113637 L 881688.2074836837,1676719.9459680237 L 881689.6831174104,1676717.5592679156 L 881696.0352103047,1676697.9581001126 L 881699.7375717137,1676641.2888181997 L 881701.372134697,1676624.9083345074 L 881701.6889012448,1676623.0812731574 L 881710.1838980808,1676603.38341089 L 881747.6340434495,1676576.7806377534 L 881778.0781527181,1676566.3562854673 L 881811.4988987938,1676542.2409653778 L 881832.016176874,1676542.0733463687 L 881877.3851093776,1676541.4624985259 L 881925.1277870792,1676501.568043773 L 881946.9052609811,1676497.9151199397 L 881975.1973877604,1676490.3697147926 L 881986.9126018735,1676479.493214726 L 881987.4254139737,1676478.2859951376 L 882003.7910151456,1676443.572066952 L 881976.6871546074,1676368.7011756112 L 881975.1360792927,1676356.0065797414 L 881973.2898680518,1676328.678659877 L 881976.7815668033,1676303.237489353 L 881976.40717836,1676294.1449719425 L 881974.7639021955,1676276.6082268106 L 881973.6789713509,1676260.9711427223 L 881966.1633951876,1676240.0397542082 L 881956.146485867,1676210.304407195 L 881941.8142483875,1676197.2438668727 L 881940.2674281807,1676195.9919656636 L 881923.7071639223,1676175.0038473746 L 881922.1083411775,1676171.94972337 L 881921.1842358895,1676170.276827111 L 881909.6110587091,1676142.996560216 L 881909.26111077,1676141.98760064 L 881909.1498890785,1676094.3698183126 L 881913.0907770157,1676067.5917828681 L 881932.2515538929,1676043.2628941927 L 881951.8027853429,1675998.460927493 L 881986.1016487749,1675953.8311268925 L 881987.0220238359,1675949.5617472173 L 881960.7959741356,1675871.2974209436 L 881960.2666016208,1675869.7935010353 L 881956.3023629456,1675869.7183563963 L 881875.205961266,1675868.5864210064 L 881840.5345756458,1675868.1210216612 L 881750.596086529,1675758.534419825 L 881695.8935053054,1675715.708376085 L 881654.7645743259,1675682.9845233313 L 881655.8748624336,1675679.1080795876 L 881656.0566448232,1675678.4753514805 L 881662.3829190007,1675672.096529561 L 881659.204633994,1675668.6594155044 L 881649.234900843,1675655.9489364421 L 881640.7485170598,1675644.1927625127 L 881624.6930716783,1675649.3806001388 L 881621.1816954359,1675649.3041892294 L 881614.7153436731,1675651.8618070802 L 881604.9800233918,1675653.2391176429 L 881599.532482995,1675655.017861693 L 881594.2027558187,1675656.7660251115 L 881587.3080018604,1675659.018873692 L 881584.4402808531,1675659.5100800137 L 881578.748362585,1675668.5949534168 L 881578.5855470069,1675671.021072852 L 881578.3435648123,1675672.6098282752 L 881574.8068945464,1675674.671931289 L 881575.3683206774,1675668.7928069434 L 881576.6415907398,1675656.726893889 L 881575.6415201762,1675652.0582348236 L 881572.5677658551,1675650.9319353304 L 881560.8154265174,1675647.7926309826 L 881553.7905635483,1675647.21794057 L 881546.6059164348,1675644.0787842092 L 881553.7209527511,1675638.8966727804 L 881545.6730987092,1675631.8689489088 L 881540.4787640774,1675630.3053836655 L 881534.4631447354,1675628.4380142507 L 881528.4055090282,1675626.9647421257 L 881521.7059590318,1675626.0715152647 L 881517.3430655573,1675624.6437514178 L 881511.7558354501,1675617.8816407886 L 881507.683981643,1675616.6783565464 L 881505.8037498505,1675615.1252080398 L 881502.1000011612,1675613.7641273835 L 881497.0720519896,1675610.4882200095 L 881491.6525424438,1675609.0767375275 L 881488.2052960517,1675609.2299398563 L 881476.9287175423,1675609.4682871243 L 881468.4355361715,1675608.9459272188 L 881462.2883110488,1675602.752454863 L 881457.3700283275,1675600.0158441928 L 881450.2601051574,1675598.8247554111 L 881437.4025756917,1675593.7855231594 L 881429.9692543459,1675593.495794122 L 881429.129180199,1675593.033129394 L 881427.8616686611,1675592.2586923568 L 881425.4113191363,1675590.6494119598 L 881424.9208410701,1675590.1260156343 L 881422.3175265675,1675586.7160161124 L 881419.0307960563,1675577.1871876619 L 881414.9767138787,1675570.7423150456 L 881409.7679868179,1675568.3000728167 L 881406.6092086688,1675563.7661738754 L 881402.8029638607,1675560.5011507645 L 881398.0817199103,1675557.9834912396 L 881384.8922272853,1675562.927060796 L 881377.2893226384,1675565.7093004116 L 881376.4363236269,1675566.0604673012 L 881375.4221266089,1675564.1640840871 L 881371.162978264,1675564.890184076 L 881363.3947107084,1675568.1901028403 L 881358.405852849,1675571.331162157 L 881357.8711150434,1675568.3546894435 L 881364.2748679224,1675565.4734772504 L 881366.969911055,1675552.6436672723 L 881378.2069148058,1675517.3075668549 L 881378.53466139,1675516.276222474 L 881391.1213902952,1675476.364680584 L 881400.7403761809,1675445.5293878643 L 881401.6101818667,1675442.7418346005 L 881401.933195075,1675441.763498772 L 881415.0429494864,1675402.086275329 L 881416.1805899325,1675397.6818452298 L 881415.3483341293,1675397.782979763 L 881413.7827367126,1675397.973757289 L 881411.4774528514,1675396.7856300315 L 881407.5653222774,1675398.1348147786 L 881392.5956358304,1675401.3387857073 L 881388.601977713,1675400.379039412 L 881377.395403571,1675390.4279510062 L 881370.8881693848,1675382.612741778 L 881369.7979061529,1675380.4988011555 L 881371.4902728857,1675375.0718884822 L 881375.3083771528,1675368.914550664 L 881378.2562383773,1675363.658308421 L 881383.4335810031,1675354.428050716 L 881387.5850347639,1675350.9582760045 L 881390.8646570584,1675345.0735541587 L 881363.5689495085,1675342.3708773814 L 881165.081292068,1675333.4863729405 L 881160.2806846154,1675333.0905016505 L 881149.7063214742,1675331.613823233 L 881145.8163809468,1675331.4033432056 L 881148.6770329535,1675279.7238145536 L 881149.1450173912,1675261.3567270269 L 881150.325850421,1675261.590752958 L 881146.141275782,1675256.0392742155 L 881150.4150704884,1675250.2455517408 L 881216.4295445601,1675168.1568006792 L 881227.970295711,1675158.971697205 L 881230.6661045293,1675156.2889792905 L 881235.3248457558,1675146.3085301223 L 881236.7563831452,1675143.8990584454 L 881238.160159221,1675141.5357124545 L 881241.0700415919,1675144.2773716506 L 881241.7377780916,1675143.463264324 L 881251.374752135,1675135.0134744137 L 881251.6826983287,1675126.424391678 L 881253.8279214797,1675121.594042697 L 881260.4650418285,1675121.797783182 L 881264.0022676028,1675112.249820963 L 881285.106186362,1675089.651719128 L 881285.2272148321,1675085.266368716 L 881285.881874359,1675083.2366747672 L 881287.9567421153,1675081.3298413449 L 881288.9580782183,1675078.6555976868 L 881289.754719768,1675072.2324508666 L 881294.8212923483,1675059.4427666783 L 881295.0136508667,1675057.5263529094 L 881295.3284718803,1675056.3091264497 L 881295.8869039977,1675051.4297294677 L 881296.2222996883,1675045.530739981 L 881296.2252595519,1675028.3306477352 L 881296.5345831747,1675015.8186812706 L 881301.9690601686,1675000.631843218 L 881306.3444749231,1674995.7673486862 L 881316.7904679534,1674993.7646688255 L 881325.4423610743,1674994.2382547024 L 881325.4904858087,1674993.8661204847 L 881327.9902809807,1674991.3693306402 L 881333.4688858375,1674991.0040300947 L 881331.4158179247,1674988.6739669032 L 881325.5976895395,1674990.114657998 L 881313.652612589,1674985.0178684779 L 881294.513409062,1674973.4869066419 L 881282.6496300444,1674966.4552637734 L 881248.8228328474,1674944.5697337773 L 881085.806975287,1674885.898941767 L 880990.4704021221,1674848.3495575134 L 880853.4224522419,1674808.1445647562 L 880788.4095403817,1674789.4560976764 L 880777.1049901282,1674787.5012012233 L 880777.4275670355,1674791.2335217088 L 880777.9010728735,1674796.3596891467 L 880782.2165945956,1674841.8920981255 L 880777.2951746215,1674919.894436908 L 880803.0572553145,1675107.4979840703 L 880766.9099937906,1674932.4597962853 L 880764.727822116,1674835.7413344015 L 880754.3240763686,1674781.4198877416 L 880753.1276751534,1674748.0843921755 L 880739.7681607584,1674742.4208330107 L 880722.8548769217,1674760.5912436082 L 880703.2286435679,1674819.2006785318 L 880679.6331937425,1674851.1505817117 L 880677.6711244354,1674853.6236900236 L 880661.0241690532,1674864.0779745877 L 880645.0513130212,1674864.9946102973 L 880648.1493754251,1674855.7877418192 L 880656.0868640838,1674859.9368535324 L 880666.4064015379,1674853.636033319 L 880663.014365679,1674839.4410529183 L 880676.5314945359,1674814.8484607912 L 880693.5184782207,1674765.8344859383 L 880694.5364356055,1674762.885236216 L 880670.37433082,1674760.8856649208 L 880649.1564056227,1674757.290822268 L 880626.6635016868,1674755.6268056901 L 880603.766699015,1674756.759011229 L 880601.1662186998,1674732.5239357185 L 880624.2859116828,1674687.7990589426 L 880630.3438062301,1674687.52383667 L 880640.5517535647,1674654.7081452408 L 880652.3022054362,1674627.8790302656 L 880660.7525123603,1674600.8324846502 L 880656.1083099482,1674588.9311114368 L 880651.2742009979,1674590.2329188855 L 880337.9168361897,1674626.4709275838 L 880338.1259440783,1674620.5065822056 L 880333.4730400405,1674615.8621792956 L 880318.4812809099,1674549.2791475502 L 880290.5052326708,1674526.0826884934 L 880289.1469884363,1674524.9568029682 L 880199.6615382892,1674475.1835656068 L 880105.6524671918,1674418.83181757 L 879834.573631049,1674437.8262359118 L 879841.2371937726,1674524.6891896487 L 879850.1753924866,1674641.1963288113 L 879841.4393778081,1674644.4950861945 L 879843.1753111612,1674669.37132444 L 879853.3611562455,1674675.7175702332 L 879854.3236059645,1674752.232981587 L 879841.5636660279,1674780.5077602665 L 879851.5643491135,1674828.5940527602 L 879906.5654617363,1674842.540965064 L 879947.2083744579,1674828.6426235233 L 879970.3933685609,1674809.3691385672 L 879989.3315386059,1674849.2650499025 L 879986.8309222746,1674885.9841032014 L 879999.7309949005,1674911.3223608006 L 880013.7046236452,1674927.2369310395 L 880028.4097053211,1674921.8928958585 L 880052.372157312,1674993.1167474964 L 880058.4831838454,1674992.47036287 L 880067.0236896886,1675000.454367358 L 880038.0527240824,1675001.0111282896 L 880041.9549677038,1674997.6835560226 L 880026.9453832108,1674980.7194683386 L 880016.7218678528,1674952.4466595512 L 879991.7746843998,1674932.7980444618 L 879980.9078854568,1674884.4401704422 L 879964.6635843135,1674852.068642393 L 879924.2931562618,1674847.286939144 L 879909.7304736502,1674853.1191225117 L 879883.3560860966,1674856.9389618488 L 879846.7771850358,1674835.2860939954 L 879839.8753248538,1674824.9255656726 L 879823.9700862719,1674838.767185719 L 879819.1273227269,1674842.9372229395 L 879795.848501325,1674872.4362720738 L 879786.4250576772,1674887.4051503004 L 879770.0924133515,1674924.931172333 L 879726.3984193371,1675051.5907094695 L 879697.6897711332,1675101.6050940903 L 879704.2100705288,1675108.6324785799 L 879713.2116550389,1675123.8541200175 L 879727.5175275955,1675127.6404796967 L 879735.4871481505,1675123.8196994625 L 879753.9015847767,1675128.3522941768 L 879786.0499425675,1675139.647262428 L 879819.80847438,1675159.464750098 L 879833.0687578241,1675162.0746740112 L 879851.0196667648,1675167.27539609 L 879856.0023720723,1675174.8963016996 L 879877.4285822177,1675216.3373240763 L 879901.42427119,1675232.8325910703 L 879889.3896718544,1675237.4254868322 L 879887.4204430915,1675234.269236236 L 879874.9021426233,1675228.8993872735 L 879867.5496938344,1675224.3934502075 L 879858.7736014706,1675196.6892367955 L 879849.9055310206,1675181.5778992763 L 879836.9246809867,1675178.670662459 L 879806.7450218002,1675178.8215912685 L 879747.2595311666,1675175.3411536156 L 879733.2637074925,1675156.1896143858 L 879719.5995707954,1675141.5921200092 L 879713.4266416312,1675142.6546972087 L 879710.0726119345,1675135.061635023 L 879701.4945579609,1675126.9668480256 L 879690.6905086302,1675109.350903939 L 879682.5835957117,1675108.507697422 L 879671.502634008,1675119.679951204 L 879641.1700194003,1675258.9640813349 L 879638.5579555666,1675279.7922258973 L 879634.8246517726,1675328.6939972027 L 879635.5435192271,1675345.2996793156 L 879682.9850798158,1675410.274868495 L 879685.428506878,1675416.4958755332 L 879709.160034605,1675454.530335841 L 879726.0192496628,1675462.9276049563 L 879733.4897652759,1675475.6486132932 L 879733.0485106376,1675489.5648622785 L 879731.0220618347,1675499.954044961 L 879721.4982205154,1675505.0412437802 L 879720.3251542591,1675479.9752421177 L 879710.5303271287,1675470.657893513 L 879698.3086122965,1675466.2222973835 L 879671.1449563177,1675424.9689222942 L 879651.218249906,1675385.3158855787 L 879633.7845428158,1675389.7808310513 L 879624.20162916,1675375.660785971 L 879599.1448596133,1675360.2905061785 L 879589.6093635618,1675356.2513571223 L 879560.2759740213,1675368.2996765608 L 879559.4939842983,1675387.2472026164 L 879568.5462493205,1675406.4044713362 L 879327.7159892004,1675469.0354841668 L 879322.2775677501,1675449.0533660853 L 879321.9124736425,1675447.6146011557 L 879309.1251747506,1675432.8367692782 L 879223.7876661832,1675418.8976464516 L 879205.3891956678,1675401.3686644684 L 879191.9777860017,1675388.5324011294 L 879179.8785463535,1675367.8088117412 L 879174.3827836317,1675322.5681456127 L 879153.4532687597,1675277.500637916 L 879136.30541915,1675228.7822463564 L 879098.6835443072,1675186.8933352884 L 879065.5057577041,1675159.6670297508 L 879016.7974118253,1675109.8588174395 L 878995.6023621225,1675088.2569696468 L 878982.6998939756,1675083.4338800944 L 878951.226145343,1675099.8916554537 L 878946.3024637046,1675170.6422228522 L 878956.4304691621,1675232.586991827 L 878972.4310478299,1675269.191567831 L 878979.4126427071,1675320.2801529833 L 878999.1685906352,1675352.7731058474 L 879040.7379858877,1675388.191101911 L 878995.347913086,1675371.81081973 L 878975.0701456672,1675364.1114460826 L 878951.040057866,1675337.7451371183 L 878938.4952799876,1675288.3039135556 L 878936.3573321168,1675281.7964540354 L 878915.0995234936,1675289.0257477516 L 878694.0988885608,1675400.515735088 L 878679.9453259138,1675415.793213351 L 878612.5519807651,1675591.0087419662 L 878612.6383348654,1675591.484175301 L 878624.4483474914,1675586.1585991425 L 878649.5255814007,1675594.420799926 L 878669.9260202114,1675615.251837584 L 878688.9983735994,1675623.1981687166 L 878706.2049006682,1675623.8778928346 L 878716.8538451056,1675635.0634476724 L 878733.9335728206,1675662.7601509949 L 878744.1391981451,1675679.6533057054 L 878759.079990004,1675700.4456649574 L 878736.6096306766,1675683.510883179 L 878692.3351813381,1675659.5271831732 L 878675.1129927611,1675625.933861576 L 878658.0033037337,1675614.4337179111 L 878639.2839419013,1675607.10544528 L 878632.2880906974,1675615.5340578402 L 878633.0177754423,1675625.1066960685 L 878656.0101473271,1675678.2516131084 L 878652.059971754,1675691.9844860784 L 878635.2748907226,1675708.0079239376 L 878628.1009374061,1675723.8013425083 L 878640.4572941931,1675762.7484917673 L 878684.2497041497,1675796.489835518 L 878763.3062599362,1675826.8606983495 L 878781.5101662271,1675843.4629161241 L 878739.9349004827,1675823.8664776862 L 878690.6174910805,1675810.7989229567 L 878651.0783268765,1675792.7378592757 L 878629.6376897409,1675775.207094796 L 878627.0750659744,1675773.1385017675 L 878622.910773097,1675781.2390420036 L 878616.1928158228,1675831.6353801293 L 878603.9893899467,1675929.795637544 L 878606.03411536,1675938.051069269 L 878607.9864448195,1675938.6271380414 L 878638.4465261322,1675948.361979912 L 878620.4255752648,1675966.938883057 L 878608.414555771,1675987.241228505 L 878607.7184294156,1676004.7647487945 L 878610.63508188,1676028.244506127 L 878612.3698076502,1676048.4740974475 L 878609.109969935,1676064.710809504 L 878531.1779223211,1676079.4785568658 L 878489.7876572884,1676091.4742556782 L 878455.5568509698,1676022.223128796 L 878440.7280604235,1675998.0421666442 L 878437.1515358299,1675994.9369401229 L 878424.0695100918,1675995.1913222722 L 878370.1452492456,1676000.0847405042 L 878376.1412847748,1675995.833942845 L 878376.7373008773,1675993.0727420205 L 878435.5475797622,1675966.4740205405 L 878436.6359462199,1675951.618779249 L 878439.2896323681,1675833.582907501 L 878427.1446058544,1675792.5162930142 L 878399.6186981514,1675700.4340649843 L 878373.0158705579,1675654.1912435633 L 878358.0282228943,1675594.2491851517 L 878337.6045403078,1675573.9691002555 L 878296.2239212692,1675517.3371413262 L 878176.2760296904,1675525.1720055623 L 878130.0346090009,1675531.0706767924 L 878128.7614329794,1675536.160607583 L 878125.7598108898,1675549.6588089124 L 878121.0758196636,1675544.7986160526 L 878099.567386064,1675541.6980961377 L 878064.3500071557,1675534.436335909 L 878054.1616527706,1675518.598782077 L 878044.5158807698,1675502.108697819 L 878049.5508676714,1675484.400512506 L 878060.6802208242,1675474.1057437204 L 878053.4433223231,1675471.1187924156 L 878040.1923450745,1675476.7714869645 L 878037.630303279,1675477.0182345998 L 878032.0163736508,1675476.3155184665 L 878023.8387822586,1675471.9376661621 L 878011.2669706194,1675473.8640159839 L 877992.8372106995,1675469.0735694892 L 877961.4070150594,1675473.6565133585 L 877954.2618776283,1675488.8169766823 L 877956.2122418454,1675505.790424966 L 877956.2506173265,1675528.4548310414 L 877957.8347164558,1675553.3498739677 L 877966.2003883864,1675635.308869877 L 877976.0888422292,1675697.520823964 L 877966.6087750742,1675711.7632298956 L 877943.3922541196,1675727.9378148096 L 877934.8185681582,1675750.902223387 L 877940.2269356068,1675806.2465326858 L 877913.924740097,1675905.658050614 L 877884.1696214505,1675966.71368196 L 877851.8023962785,1676024.0024503642 L 877868.6643110036,1676081.6977916383 L 877882.338448094,1676093.688987319 L 877945.929669068,1676090.3267595433 L 877970.7721454807,1676094.6222473555 L 877973.8138500901,1676096.9333753635 L 877981.0876594068,1676106.8991656206 L 877992.7220962528,1676104.045758904 L 878006.1885315942,1676094.899963667 L 878034.1606950075,1676097.3113241177 L 878076.9603115187,1676147.0181293455 L 878101.9148733404,1676196.905168272 L 878130.8280488497,1676246.5384685984 L 878144.1049209347,1676295.8271025717 L 878097.9507549681,1676354.3415061417 L 878076.756755678,1676409.5019670145 L 878058.7143923849,1676435.1899887265 L 878041.0600822257,1676445.5224087776 L 878016.250763339,1676448.2547794378 L 877980.0823988033,1676437.74673004 L 877963.1119000196,1676445.2825193687 L 877966.1930073764,1676455.2702804597 L 877987.8810935804,1676459.1096710986 L 878014.0455214399,1676472.4629743332 L 878014.612149537,1676481.4136100302 L 878004.5377299337,1676516.1332121133 L 878008.568004953,1676529.605238452 L 878018.5985413148,1676531.8774039755 L 878048.1395063152,1676521.9473879416 L 878063.7774452439,1676527.214647823 L 878112.8793287628,1676549.3486875019 L 878148.3310948312,1676590.672605246 L 878149.3530912873,1676608.115560082 L 878135.9493469265,1676629.5915622623 L 878114.7989102964,1676647.094453349 L 878110.9008176614,1676659.445468719 L 878127.338132743,1676684.0172687971 L 878179.6002543307,1676726.1608266241 L 878215.1102279666,1676744.347985358 L 878208.3498492418,1676789.0521749214 L 878204.1031697333,1676814.8541306239 L 878184.1975647486,1676840.785412151 L 878150.2680742353,1676857.9543522715 L 878136.612953021,1676875.9426020181 L 878152.7666275231,1676890.9775129121 L 878190.8470714795,1676901.409994572 L 878252.6082184513,1676904.3290927613 L 878295.019891765,1676905.2615847567 L 878341.0228311818,1676895.6600848292 L 878374.0192797269,1676878.031946234 L 878420.5365174325,1676861.7257723138 L 878461.4470915789,1676863.1546377493 L 878482.265740267,1676858.4667812777 L 878493.9399355828,1676850.3736508116 L 878501.2951357824,1676861.0208289004 L 878609.8740766527,1677011.4238675463 L 878614.8982502356,1677018.5367095673 L 878610.9122427893,1677023.1053636435 L 878601.1807263575,1677034.240911463 L 878597.8308706114,1677038.0765896193 L 878416.6643379597,1677239.7271752718 L 878376.7247269237,1677312.0755916282 L 878360.6277919685,1677324.7655636424 L 878336.3232968147,1677316.4995426068 L 878318.3947959665,1677322.1796650542 L 878306.5154428873,1677325.0343118985 L 878302.1234222836,1677332.9740473474 L 878291.9434691839,1677349.791239602 L 878292.5311507876,1677374.9361856733 L 878301.7265406772,1677376.532711973 L 878272.2192689329,1677417.7687298586 L 878120.7396372331,1677490.005459409 L 878007.0799770857,1677544.794849834 L 877959.608591008,1677569.610438644 L 877860.551698942,1677653.7504713186 L 877832.1714920949,1677685.2736199144 L 877816.8879363786,1677685.8989415476 L 877809.551856061,1677689.8645409406 L 877763.2369942623,1677708.4581106028 L 877763.8363116978,1677710.1536322348 L 877758.1444939573,1677708.4705965058 L 877746.0827311715,1677708.8368657208 L 877738.6407670429,1677719.0132425972 L 877700.981069283,1677727.5393345405 L 877692.4439967086,1677762.0063386285 L 877679.0116620023,1677787.1544756987 L 877674.2724229163,1677796.02969296 L 877656.8165895842,1677828.6428639772 L 877652.4201746429,1677876.8592652935 L 877650.7567618783,1677880.8784574298 L 877648.4268864288,1677886.765458543 L 877620.3033100386,1677956.3865891243 L 877619.8934600825,1677957.3923569033 L 877610.6906633797,1677953.1186277997 L 877604.3803867655,1677968.889765172 L 877583.9600411924,1677966.2717193696 L 877581.3786239421,1677990.2158867 L 877592.2629430457,1677991.6919877043 L 877589.5982752,1678016.380361665 L 877591.0718085401,1678016.56993222 L 877589.7065263011,1678029.2221972547 L 877588.204367055,1678029.1057493857 L 877584.9764284119,1678059.7012767964 L 877586.4089743526,1678059.8910523893 L 877585.0218195358,1678072.5674202382 L 877583.5405587829,1678072.4318732175 L 877580.3159883046,1678102.5015324003 L 877553.3274216842,1678105.262851064 L 877525.4069351967,1678107.987845096 L 877526.0314219452,1678115.7115408496 L 877553.8911398256,1678113.628669661 z\" /><path fill-rule=\"evenodd\" fill=\"#66cc99\" stroke=\"#555555\" stroke-width=\"39.70243331257797\" opacity=\"0.6\" d=\"M 876851.5985293549,1676180.7597946338 L 876827.5316425512,1676198.616194062 L 876811.7421481905,1676237.4012923469 L 876833.4510551823,1676293.7618186658 L 876783.3023813202,1676371.3489336774 L 876672.9846305278,1676418.5616735592 L 876636.5577567891,1676424.7352137761 L 876620.3299390587,1676443.8450460494 L 876613.0458600975,1676478.7926752775 L 876573.6512591096,1676553.7997310075 L 876531.9290058442,1676632.9412797522 L 876500.1268813106,1676693.0805304823 L 876489.5641661765,1676721.7203448182 L 876498.1567054553,1676734.8996445788 L 876526.6665591587,1676741.2661868487 L 876586.656936812,1676731.5197199308 L 876632.5667085301,1676719.8632532475 L 876649.6627726397,1676728.8291815436 L 876669.8202589166,1676755.2368875588 L 876687.8438856273,1676768.3640034928 L 876700.6920064504,1676762.3154084054 L 876710.3082580867,1676756.9108055166 L 876717.6169901032,1676731.6893205917 L 876715.032460804,1676722.6457962096 L 876670.9764754982,1676690.999155314 L 876666.6822574665,1676677.52543095 L 876676.9469247881,1676649.4589531429 L 876719.3432225948,1676603.9385927666 L 876725.4214105882,1676586.3321263713 L 876709.8243588088,1676551.8728608077 L 876739.3471264093,1676492.932697848 L 876859.4921642167,1676453.126694623 L 876874.2957066572,1676439.2785143005 L 876870.8183807841,1676426.827416484 L 876883.3775381254,1676399.5862345034 L 876887.159176785,1676394.1308463118 L 876912.3890520261,1676361.7497094711 L 876931.9520998065,1676346.8710058792 L 876943.0933283989,1676326.1590848505 L 876936.8400490584,1676309.1641560302 L 876924.9254462575,1676290.9868872412 L 876911.8464606868,1676222.1047079149 L 876885.7479681636,1676190.361224096 L 876851.5985293549,1676180.7597946338 z\" /><path fill-rule=\"evenodd\" fill=\"#66cc99\" stroke=\"#555555\" stroke-width=\"39.70243331257797\" opacity=\"0.6\" d=\"M 877378.4206859674,1676467.433999446 L 877369.1698077865,1676472.9327402993 L 877369.1969930663,1676478.3670727483 L 877363.7556724374,1676478.3962924378 L 877345.9861618546,1676515.2638204552 L 877352.9080312583,1676522.2222227866 L 877342.6635569503,1676540.9352125977 L 877350.4874860715,1676542.5606037062 L 877295.6159414744,1676612.9033618942 L 877284.0039905988,1676612.0597065864 L 877262.674091031,1676626.666328106 L 877257.9154390685,1676654.045428099 L 877276.4621250854,1676662.8201463062 L 877328.3898632883,1676731.835846156 L 877403.3463448912,1676794.5030851362 L 877401.3170110007,1676823.4970681425 L 877433.9664961266,1676859.0036709085 L 877432.7051161957,1676888.8305751143 L 877403.9975938954,1676920.2803736883 L 877393.7059151535,1676929.756206667 L 877406.7946437933,1676970.803135204 L 877432.6297080901,1676986.0585439522 L 877471.52599413,1676983.7105500945 L 877492.3610740667,1676978.7056925267 L 877527.1941228524,1676944.510014761 L 877514.1653934909,1676915.0555221112 L 877515.4064248453,1676892.3517137752 L 877566.6213693834,1676869.248930911 L 877588.468808464,1676849.3862013635 L 877587.4365819304,1676824.1044982132 L 877551.2605582066,1676776.8998471089 L 877558.1773277619,1676746.0699290694 L 877602.3536702849,1676715.8553842881 L 877616.7043228289,1676684.6213822176 L 877603.270742406,1676666.162812734 L 877558.2876489752,1676666.4068449428 L 877549.0737574369,1676673.702894737 L 877501.9944953531,1676637.22577128 L 877411.8507439321,1676567.2505831898 L 877366.0415680938,1676526.4663069297 L 877377.7598112666,1676515.9836235368 L 877388.830267096,1676481.3259954948 L 877378.4206859674,1676467.433999446 z\" /><path fill-rule=\"evenodd\" fill=\"#66cc99\" stroke=\"#555555\" stroke-width=\"39.70243331257797\" opacity=\"0.6\" d=\"M 877395.138693049,1675761.6732607244 L 877374.8285753871,1675762.5046403199 L 877364.3251659368,1675802.0060582873 L 877371.527826128,1675827.3278860939 L 877406.0630512828,1675869.092328239 L 877392.8951772936,1675954.9190206688 L 877382.4465853049,1675979.3954002506 L 877365.8387406311,1675994.8801314905 L 877334.8268257797,1675995.948994641 L 877319.1266074894,1676011.6101360987 L 877330.6438801957,1676029.3015256398 L 877362.3541957107,1676023.1555977005 L 877404.8125205468,1676026.0113564122 L 877427.1913782452,1676060.2207427581 L 877428.7121629748,1676109.2293188435 L 877430.8830361847,1676176.878387448 L 877399.1187260168,1676208.2034936722 L 877413.4749076113,1676284.3931853236 L 877450.0859778384,1676314.4485215633 L 877536.5462656857,1676320.5761692903 L 877547.8841194739,1676302.9993946312 L 877533.9370075343,1676271.0142020397 L 877494.1352427652,1676225.8500919654 L 877478.5522237072,1676158.815963386 L 877506.2332005812,1676105.8094063108 L 877509.9774615278,1676022.7300981726 L 877512.2362498979,1675967.652327167 L 877463.3565207319,1675888.0033440697 L 877436.6668285972,1675853.9824696246 L 877427.5898324321,1675816.8953379393 L 877420.8634013163,1675791.2462212362 L 877395.138693049,1675761.6732607244 z\" /><path fill-rule=\"evenodd\" fill=\"#66cc99\" stroke=\"#555555\" stroke-width=\"39.70243331257797\" opacity=\"0.6\" d=\"M 877414.4180383069,1677256.2475226503 L 877394.8453703127,1677259.6075326279 L 877381.0161411064,1677292.7504038299 L 877376.2347306409,1677334.158663401 L 877371.5992930967,1677340.0042156933 L 877365.5885937413,1677350.5153361803 L 877315.0585619225,1677365.447026236 L 877294.8750084699,1677386.9779767392 L 877292.4424875801,1677396.3275171216 L 877295.5190060753,1677405.3955643694 L 877311.4242427744,1677415.3291603848 L 877324.9887099008,1677423.179058699 L 877364.9102313479,1677432.5236189265 L 877405.381878407,1677411.355025874 L 877416.3566563678,1677414.3262599953 L 877433.0189402557,1677435.9007838722 L 877447.4964721136,1677440.019162945 L 877454.4665187458,1677434.6267981923 L 877455.5654074409,1677420.8801738783 L 877467.4202965657,1677413.134024495 L 877469.7187821207,1677406.3674284874 L 877461.7712465883,1677402.2163758792 L 877430.278268715,1677400.0476080277 L 877416.6457242564,1677377.9920553847 L 877405.3153283877,1677350.1016247538 L 877407.090794049,1677331.5129784371 L 877426.0059995912,1677289.2612209227 L 877426.1323863128,1677267.366760358 L 877414.4180383069,1677256.2475226503 z\" /></g></g></svg>"
      ],
      "text/plain": [
       "<MULTIPOLYGON (((877553.891 1678113.629, 877603.091 1678110.216, 877627.925 ...>"
      ]
     },
     "execution_count": 34,
     "metadata": {},
     "output_type": "execute_result"
    }
   ],
   "source": [
    "test['geometry'][3]"
   ]
  }
 ],
 "metadata": {
  "kernelspec": {
   "display_name": "Python 3 (ipykernel)",
   "language": "python",
   "name": "python3"
  },
  "language_info": {
   "codemirror_mode": {
    "name": "ipython",
    "version": 3
   },
   "file_extension": ".py",
   "mimetype": "text/x-python",
   "name": "python",
   "nbconvert_exporter": "python",
   "pygments_lexer": "ipython3",
   "version": "3.9.13"
  }
 },
 "nbformat": 4,
 "nbformat_minor": 5
}
